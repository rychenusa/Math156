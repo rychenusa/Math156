{
 "cells": [
  {
   "cell_type": "markdown",
   "id": "9cf8e834-6850-4347-bd0c-5a759b8a2a9f",
   "metadata": {},
   "source": [
    "# Question 4"
   ]
  },
  {
   "cell_type": "markdown",
   "id": "ddcf6cfc-c2af-4d34-903e-9a7c69fda286",
   "metadata": {},
   "source": [
    "### (a)"
   ]
  },
  {
   "cell_type": "code",
   "execution_count": 5,
   "id": "b45123de-936f-407d-ad93-06e1fd847271",
   "metadata": {},
   "outputs": [
    {
     "data": {
      "text/html": [
       "<div>\n",
       "<style scoped>\n",
       "    .dataframe tbody tr th:only-of-type {\n",
       "        vertical-align: middle;\n",
       "    }\n",
       "\n",
       "    .dataframe tbody tr th {\n",
       "        vertical-align: top;\n",
       "    }\n",
       "\n",
       "    .dataframe thead th {\n",
       "        text-align: right;\n",
       "    }\n",
       "</style>\n",
       "<table border=\"1\" class=\"dataframe\">\n",
       "  <thead>\n",
       "    <tr style=\"text-align: right;\">\n",
       "      <th></th>\n",
       "      <th>fixed acidity</th>\n",
       "      <th>volatile acidity</th>\n",
       "      <th>citric acid</th>\n",
       "      <th>residual sugar</th>\n",
       "      <th>chlorides</th>\n",
       "      <th>free sulfur dioxide</th>\n",
       "      <th>total sulfur dioxide</th>\n",
       "      <th>density</th>\n",
       "      <th>pH</th>\n",
       "      <th>sulphates</th>\n",
       "      <th>alcohol</th>\n",
       "      <th>quality</th>\n",
       "    </tr>\n",
       "  </thead>\n",
       "  <tbody>\n",
       "    <tr>\n",
       "      <th>0</th>\n",
       "      <td>7.4</td>\n",
       "      <td>0.70</td>\n",
       "      <td>0.00</td>\n",
       "      <td>1.9</td>\n",
       "      <td>0.076</td>\n",
       "      <td>11.0</td>\n",
       "      <td>34.0</td>\n",
       "      <td>0.9978</td>\n",
       "      <td>3.51</td>\n",
       "      <td>0.56</td>\n",
       "      <td>9.4</td>\n",
       "      <td>5</td>\n",
       "    </tr>\n",
       "    <tr>\n",
       "      <th>1</th>\n",
       "      <td>7.8</td>\n",
       "      <td>0.88</td>\n",
       "      <td>0.00</td>\n",
       "      <td>2.6</td>\n",
       "      <td>0.098</td>\n",
       "      <td>25.0</td>\n",
       "      <td>67.0</td>\n",
       "      <td>0.9968</td>\n",
       "      <td>3.20</td>\n",
       "      <td>0.68</td>\n",
       "      <td>9.8</td>\n",
       "      <td>5</td>\n",
       "    </tr>\n",
       "    <tr>\n",
       "      <th>2</th>\n",
       "      <td>7.8</td>\n",
       "      <td>0.76</td>\n",
       "      <td>0.04</td>\n",
       "      <td>2.3</td>\n",
       "      <td>0.092</td>\n",
       "      <td>15.0</td>\n",
       "      <td>54.0</td>\n",
       "      <td>0.9970</td>\n",
       "      <td>3.26</td>\n",
       "      <td>0.65</td>\n",
       "      <td>9.8</td>\n",
       "      <td>5</td>\n",
       "    </tr>\n",
       "    <tr>\n",
       "      <th>3</th>\n",
       "      <td>11.2</td>\n",
       "      <td>0.28</td>\n",
       "      <td>0.56</td>\n",
       "      <td>1.9</td>\n",
       "      <td>0.075</td>\n",
       "      <td>17.0</td>\n",
       "      <td>60.0</td>\n",
       "      <td>0.9980</td>\n",
       "      <td>3.16</td>\n",
       "      <td>0.58</td>\n",
       "      <td>9.8</td>\n",
       "      <td>6</td>\n",
       "    </tr>\n",
       "    <tr>\n",
       "      <th>4</th>\n",
       "      <td>7.4</td>\n",
       "      <td>0.70</td>\n",
       "      <td>0.00</td>\n",
       "      <td>1.9</td>\n",
       "      <td>0.076</td>\n",
       "      <td>11.0</td>\n",
       "      <td>34.0</td>\n",
       "      <td>0.9978</td>\n",
       "      <td>3.51</td>\n",
       "      <td>0.56</td>\n",
       "      <td>9.4</td>\n",
       "      <td>5</td>\n",
       "    </tr>\n",
       "  </tbody>\n",
       "</table>\n",
       "</div>"
      ],
      "text/plain": [
       "   fixed acidity  volatile acidity  citric acid  residual sugar  chlorides  \\\n",
       "0            7.4              0.70         0.00             1.9      0.076   \n",
       "1            7.8              0.88         0.00             2.6      0.098   \n",
       "2            7.8              0.76         0.04             2.3      0.092   \n",
       "3           11.2              0.28         0.56             1.9      0.075   \n",
       "4            7.4              0.70         0.00             1.9      0.076   \n",
       "\n",
       "   free sulfur dioxide  total sulfur dioxide  density    pH  sulphates  \\\n",
       "0                 11.0                  34.0   0.9978  3.51       0.56   \n",
       "1                 25.0                  67.0   0.9968  3.20       0.68   \n",
       "2                 15.0                  54.0   0.9970  3.26       0.65   \n",
       "3                 17.0                  60.0   0.9980  3.16       0.58   \n",
       "4                 11.0                  34.0   0.9978  3.51       0.56   \n",
       "\n",
       "   alcohol  quality  \n",
       "0      9.4        5  \n",
       "1      9.8        5  \n",
       "2      9.8        5  \n",
       "3      9.8        6  \n",
       "4      9.4        5  "
      ]
     },
     "execution_count": 5,
     "metadata": {},
     "output_type": "execute_result"
    }
   ],
   "source": [
    "import numpy as np\n",
    "from numpy import linalg as LA\n",
    "import pandas as pd\n",
    "import matplotlib.pyplot as plt\n",
    "from sklearn.model_selection import train_test_split\n",
    "\n",
    "wine = pd.read_csv(\"winequality-red.csv\", delimiter = \";\")\n",
    "wine.head()"
   ]
  },
  {
   "cell_type": "markdown",
   "id": "20c1b176-d731-4872-8583-e5c58d1c287a",
   "metadata": {},
   "source": [
    "### (b)"
   ]
  },
  {
   "cell_type": "code",
   "execution_count": 6,
   "id": "63cc74b0-34c6-46ce-a3db-c9bede7f3f64",
   "metadata": {},
   "outputs": [],
   "source": [
    "X = np.array(wine.iloc[:, :-1])\n",
    "y = np.array(wine.iloc[:, 11])\n",
    "\n",
    "\n",
    "X_train, X_sub, y_train, y_sub = train_test_split(X, y, test_size = 0.25, random_state = 42)\n",
    "X_test, X_val, y_test, y_val = train_test_split(X_sub, y_sub, test_size = 15/25, random_state = 42)"
   ]
  },
  {
   "cell_type": "markdown",
   "id": "cb2a71fd-3c44-4e20-9283-adfe0c15dd05",
   "metadata": {},
   "source": [
    "### (c)"
   ]
  },
  {
   "cell_type": "markdown",
   "id": "56293345-259e-4b89-ba1d-b17a84a6518a",
   "metadata": {},
   "source": [
    "The closed-form solution that minimizes the sum-of-squares error is $$\\beta = (X^TX)^{-1} X^T y.$$"
   ]
  },
  {
   "cell_type": "code",
   "execution_count": 8,
   "id": "0d8c08dd-7f11-44b9-aca0-990a36b20b10",
   "metadata": {},
   "outputs": [],
   "source": [
    "#SSE function\n",
    "def SSE(X, y):\n",
    "    beta = LA.inv(X.T @ X) @ X.T @ y\n",
    "    return beta\n"
   ]
  },
  {
   "cell_type": "code",
   "execution_count": 9,
   "id": "83e05ed3-93f8-4072-9b7c-9465fe747f6f",
   "metadata": {},
   "outputs": [
    {
     "name": "stdout",
     "output_type": "stream",
     "text": [
      "[ 3.19457033e-03 -1.02208859e+00 -1.35187029e-01  1.34793781e-04\n",
      " -1.78090495e+00  5.19502700e-03 -3.70824267e-03  4.20796084e+00\n",
      " -4.42831022e-01  7.92848115e-01  3.04980738e-01]\n"
     ]
    }
   ],
   "source": [
    "#Getting Beta values\n",
    "beta = SSE(X_train, y_train)\n",
    "print(beta)"
   ]
  },
  {
   "cell_type": "markdown",
   "id": "4d6f018f-d45d-4531-9fdb-484e34e40c8b",
   "metadata": {},
   "source": [
    "### (d)"
   ]
  },
  {
   "cell_type": "code",
   "execution_count": 45,
   "id": "e5d7a395-9fb7-491b-a114-b3b4328d94be",
   "metadata": {},
   "outputs": [
    {
     "data": {
      "image/png": "[encoded data removed]",
      "text/plain": [
       "<Figure size 432x288 with 1 Axes>"
      ]
     },
     "metadata": {
      "needs_background": "light"
     },
     "output_type": "display_data"
    }
   ],
   "source": [
    "y_train_pred = X_train @ beta\n",
    "\n",
    "plt.scatter(y_train, y_train_pred)\n",
    "plt.ylabel(\"Predicted Wine Quality (train)\")\n",
    "plt.xlabel(\"Actual Wine Quality (train)\")\n",
    "plt.title(\"Actual vs Predicted (Train Set)\")\n",
    "plt.show()"
   ]
  },
  {
   "cell_type": "markdown",
   "id": "973bd7c4-51f6-40b6-a076-fdf4831f40db",
   "metadata": {},
   "source": [
    "The plot shows that the model moderately captures the relationship between features and wine quality, but the predictions have noticeable variance around the actual values, suggesting that precision isn't perfect. The predictions seem to be more accurate around wines with moderate wine quality, i.e. 6 or 7, compared with wines with poor or very good quality, i.e. 3 or 8. "
   ]
  },
  {
   "cell_type": "markdown",
   "id": "051627a1-6e33-4b54-8d93-f01bbd134c1d",
   "metadata": {},
   "source": [
    "### (e)"
   ]
  },
  {
   "cell_type": "code",
   "execution_count": 52,
   "id": "05d7134c-d6e2-4fee-8923-6c3ad2995ac9",
   "metadata": {},
   "outputs": [
    {
     "name": "stdout",
     "output_type": "stream",
     "text": [
      "Root MSE (train): 0.6539565424645603\n",
      "Root MSE (test): 0.6148418450930127\n"
     ]
    }
   ],
   "source": [
    "def mse(X, y, beta):\n",
    "    return np.sum((X @ beta - y) ** 2) / 2\n",
    "\n",
    "def rmse(X, y, beta):\n",
    "    return np.sqrt(2 * mse(X, y, beta) / len(X))\n",
    "\n",
    "print(f\"Root MSE (train): {rmse(X_train, y_train, beta)}\")\n",
    "print(f\"Root MSE (test): {rmse(X_test, y_test, beta)}\")"
   ]
  },
  {
   "cell_type": "markdown",
   "id": "e0461d43-9d58-47e9-8055-c1216054c257",
   "metadata": {},
   "source": [
    "### (f)"
   ]
  },
  {
   "cell_type": "code",
   "execution_count": 54,
   "id": "b23d748c-4400-4b4f-a1c5-4d66f3d29698",
   "metadata": {},
   "outputs": [],
   "source": [
    "X_train, X_val, y_train, y_val = train_test_split(X_train, y_train, test_size=0.25, random_state=42)"
   ]
  },
  {
   "cell_type": "markdown",
   "id": "382c6f7f-1b61-4b00-8b07-d8b16bbab726",
   "metadata": {},
   "source": [
    "### (g)"
   ]
  },
  {
   "cell_type": "code",
   "execution_count": 62,
   "id": "b808066c-c419-4ca3-8e3f-692d071b4271",
   "metadata": {},
   "outputs": [],
   "source": [
    "def LMS(X, y, iter=1000000, step=0.00005):\n",
    "    w = np.random.uniform(-10, 10, size=X.shape[1])\n",
    "    for _ in range(iter):\n",
    "        idx = np.random.randint(0, X.shape[0])\n",
    "        error = y[idx] - np.dot(w, X[idx])\n",
    "        w += step * error * X[idx]\n",
    "    return w"
   ]
  },
  {
   "cell_type": "code",
   "execution_count": 63,
   "id": "16f7f5e9",
   "metadata": {},
   "outputs": [
    {
     "name": "stdout",
     "output_type": "stream",
     "text": [
      "[-0.05031171  0.89095122  0.81986402 -0.03385028 -1.27373861  0.01281325\n",
      " -0.00377762  2.88647765 -0.69605969  1.96234921  0.36812477]\n"
     ]
    }
   ],
   "source": [
    "iteration = 1000000\n",
    "stepsize = 0.00005\n",
    "theta = LMS(X_train, y_train, iteration, stepsize)\n",
    "print(theta)"
   ]
  },
  {
   "cell_type": "markdown",
   "id": "c3c6c713",
   "metadata": {},
   "source": [
    "### (h)"
   ]
  },
  {
   "cell_type": "code",
   "execution_count": 64,
   "id": "997428b4-eb64-4dba-a724-8137ccf6c86a",
   "metadata": {},
   "outputs": [
    {
     "name": "stdout",
     "output_type": "stream",
     "text": [
      "Step size 0.00001 → Validation RMSE: 1.0791\n",
      "Step size 0.00005 → Validation RMSE: 0.7726\n",
      "Step size 0.00010 → Validation RMSE: 0.8300\n"
     ]
    },
    {
     "name": "stderr",
     "output_type": "stream",
     "text": [
      "C:\\Users\\ryche\\AppData\\Local\\Temp\\ipykernel_5456\\1425682095.py:6: RuntimeWarning: invalid value encountered in add\n",
      "  w += step * error * X[idx]\n"
     ]
    },
    {
     "name": "stdout",
     "output_type": "stream",
     "text": [
      "Step size 0.00050 → Validation RMSE: nan\n",
      "\n",
      "Best step size: 5e-05, with validation RMSE: 0.7726\n"
     ]
    }
   ],
   "source": [
    "def mse_LMS(X, y, theta):\n",
    "    return np.sum((X @ theta - y) ** 2) / 2\n",
    "\n",
    "def rootmse_LMS(X, y, theta):\n",
    "    return np.sqrt(2 * mse_LMS(X, y, theta) / len(X))\n",
    "\n",
    "step_sizes = [0.00001, 0.00005, 0.0001, 0.0005]\n",
    "best_rmse = float(\"inf\")\n",
    "best_eta = None\n",
    "best_theta = None\n",
    "\n",
    "for eta in step_sizes:\n",
    "    theta_temp = LMS(X_train, y_train, iter=1500000, step=eta)\n",
    "    val_rmse = rmse_LMS(X_val, y_val, theta_temp)\n",
    "    print(f\"Step size {eta:.5f} → Validation RMSE: {val_rmse:.4f}\")\n",
    "    \n",
    "    if val_rmse < best_rmse:\n",
    "        best_rmse = val_rmse\n",
    "        best_eta = eta\n",
    "        best_theta = theta_temp\n",
    "\n",
    "print(f\"\\nBest step size: {best_eta}, with validation RMSE: {best_rmse:.4f}\")"
   ]
  },
  {
   "cell_type": "markdown",
   "id": "f1b3919d",
   "metadata": {},
   "source": [
    "### (i)"
   ]
  },
  {
   "cell_type": "code",
   "execution_count": 65,
   "id": "f70c1f3c",
   "metadata": {},
   "outputs": [],
   "source": [
    "X_final_train = np.vstack((X_train, X_val))\n",
    "y_final_train = np.hstack((y_train, y_val))\n",
    "\n",
    "theta_final = LMS(X_final_train, y_final_train, iter=1500000, step=best_eta)"
   ]
  },
  {
   "cell_type": "markdown",
   "id": "e3543278",
   "metadata": {},
   "source": [
    "### (j)"
   ]
  },
  {
   "cell_type": "code",
   "execution_count": 66,
   "id": "f318474d",
   "metadata": {},
   "outputs": [
    {
     "name": "stdout",
     "output_type": "stream",
     "text": [
      "Final LMS RMSE (train): 0.6728278889428423\n",
      "Final LMS RMSE (test): 0.6071001898345881\n"
     ]
    }
   ],
   "source": [
    "print(\"Final LMS RMSE (train):\", rootmse_LMS(X_final_train, y_final_train, theta_final))\n",
    "print(\"Final LMS RMSE (test):\", rootmse_LMS(X_test, y_test, theta_final))"
   ]
  }
 ],
 "metadata": {
  "kernelspec": {
   "display_name": "Python 3 (ipykernel)",
   "language": "python",
   "name": "python3"
  },
  "language_info": {
   "codemirror_mode": {
    "name": "ipython",
    "version": 3
   },
   "file_extension": ".py",
   "mimetype": "text/x-python",
   "name": "python",
   "nbconvert_exporter": "python",
   "pygments_lexer": "ipython3",
   "version": "3.9.12"
  }
 },
 "nbformat": 4,
 "nbformat_minor": 5
}
